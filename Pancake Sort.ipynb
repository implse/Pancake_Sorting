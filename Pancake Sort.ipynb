{
 "cells": [
  {
   "cell_type": "markdown",
   "metadata": {},
   "source": [
    "# Pancake Sort"
   ]
  },
  {
   "cell_type": "markdown",
   "metadata": {},
   "source": [
    "![title](image/nathalie-jolie-9RVsC23zzCQ-unsplash.jpg)"
   ]
  },
  {
   "cell_type": "markdown",
   "metadata": {},
   "source": [
    "Pancake sort is a variation of the sorting problem in which the only allowed operation is to reverse (flip) the elements of some prefix of the sequence."
   ]
  },
  {
   "cell_type": "markdown",
   "metadata": {},
   "source": [
    "## The Original Pancake Sort problem"
   ]
  },
  {
   "cell_type": "markdown",
   "metadata": {},
   "source": [
    "Given an list of integers representing the size of each pancakes, sort the list using only the flip operation. "
   ]
  },
  {
   "cell_type": "markdown",
   "metadata": {},
   "source": [
    "## Insights"
   ]
  },
  {
   "cell_type": "markdown",
   "metadata": {},
   "source": [
    "We can represent our pile of pancakes as a stack from top (zero index) to bottom (last index).\n",
    "\n",
    "The idea is to find the maximum element (pancake size) and move it to the end of the list using the flip operation.\n",
    "Next find the second maximumm element and move it in second to last position and so on.\n",
    "\n",
    "- Reverse the sublist from 0 to max_index to move the maximum element to the top. (front)\n",
    "- Reverse the sublist from 0 to the size to move the maximum element to the end. (bottom)"
   ]
  },
  {
   "cell_type": "code",
   "execution_count": 1,
   "metadata": {
    "collapsed": true
   },
   "outputs": [],
   "source": [
    "\n",
    "def pancake_sort(lst):\n",
    "    for size in reversed(range(len(lst))):\n",
    "        max_ind = max_pos(lst[:size + 1])\n",
    "        # First flip\n",
    "        flip(lst, 0, max_ind)\n",
    "        # Second flip\n",
    "        flip(lst, 0, size)\n",
    "    return lst\n",
    "\n",
    "def max_pos(lst):\n",
    "    return lst.index(max(lst))\n",
    "\n",
    "def flip(lst, i, j):\n",
    "    while i < j:\n",
    "        lst[i], lst[j] = lst[j], lst[i]\n",
    "        i += 1\n",
    "        j -= 1"
   ]
  },
  {
   "cell_type": "markdown",
   "metadata": {},
   "source": [
    "Time Complexity `O(n2)` / Space Complexity `0(1)`"
   ]
  },
  {
   "cell_type": "code",
   "execution_count": 5,
   "metadata": {
    "collapsed": true
   },
   "outputs": [],
   "source": [
    "# Test\n",
    "lst = [30, 25, 20, 35, 40, 45]"
   ]
  },
  {
   "cell_type": "code",
   "execution_count": 6,
   "metadata": {
    "collapsed": false
   },
   "outputs": [
    {
     "name": "stdout",
     "output_type": "stream",
     "text": [
      "[20, 25, 30, 35, 40, 45]\n"
     ]
    }
   ],
   "source": [
    "pancake_sort(lst)\n",
    "print(lst)"
   ]
  },
  {
   "cell_type": "code",
   "execution_count": null,
   "metadata": {
    "collapsed": true
   },
   "outputs": [],
   "source": []
  }
 ],
 "metadata": {
  "kernelspec": {
   "display_name": "Python 3",
   "language": "python",
   "name": "python3"
  },
  "language_info": {
   "codemirror_mode": {
    "name": "ipython",
    "version": 3
   },
   "file_extension": ".py",
   "mimetype": "text/x-python",
   "name": "python",
   "nbconvert_exporter": "python",
   "pygments_lexer": "ipython3",
   "version": "3.6.0"
  }
 },
 "nbformat": 4,
 "nbformat_minor": 2
}
